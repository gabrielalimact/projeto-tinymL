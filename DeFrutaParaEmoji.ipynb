{
  "cells": [
    {
      "cell_type": "markdown",
      "metadata": {
        "id": "YZy1abJ0f2Lf"
      },
      "source": [
        "# Preparando ambiente"
      ]
    },
    {
      "cell_type": "code",
      "execution_count": null,
      "metadata": {
        "id": "xq3GSQNPfdUi"
      },
      "outputs": [],
      "source": [
        "!apt-get -qq install xxd\n",
        "!pip install pandas numpy matplotlib\n",
        "%tensorflow_version 2.x\n",
        "!pip install tensorflow"
      ]
    },
    {
      "cell_type": "code",
      "execution_count": null,
      "metadata": {
        "colab": {
          "base_uri": "https://localhost:8080/"
        },
        "id": "ZtYCWFDMf53U",
        "outputId": "77ca54e9-835d-4186-ba18-91dd452c5172"
      },
      "outputs": [
        {
          "name": "stdout",
          "output_type": "stream",
          "text": [
            "Mounted at /content/drive\n"
          ]
        }
      ],
      "source": [
        "import matplotlib.pyplot as plt\n",
        "import numpy as np\n",
        "import pandas as pd\n",
        "import tensorflow as tf\n",
        "import os\n",
        "import fileinput\n",
        "from sklearn import metrics\n",
        "\n",
        "\n",
        "from google.colab import drive\n",
        "drive.mount('/content/drive', force_remount=True)"
      ]
    },
    {
      "cell_type": "markdown",
      "metadata": {
        "id": "OfWViKmlg653"
      },
      "source": [
        "# Carregando dados"
      ]
    },
    {
      "cell_type": "markdown",
      "metadata": {
        "id": "E2bNbUjDNFYt"
      },
      "source": [
        "#### Gerando mais cores"
      ]
    },
    {
      "cell_type": "code",
      "source": [
        "SEED = 42\n",
        "np.random.seed(SEED)\n",
        "tf.random.set_seed(SEED)\n",
        "\n",
        "CLASSES = []\n",
        "PATH_DIR = '/content/drive/MyDrive/Projeto TinyML/Dados/'\n",
        "\n",
        "for file in os.listdir(PATH_DIR):\n",
        "  if file.endswith(\".csv\"):\n",
        "    CLASSES.append(os.path.splitext(file)[0])\n",
        "\n",
        "CLASSES.sort()\n",
        "SAMPLES_WINDOW_LEN = 1\n",
        "NUM_CLASSES = len(CLASSES)\n",
        "print(CLASSES, NUM_CLASSES)\n",
        "ONE_HOT_ENCODED_CLASSES = np.eye(NUM_CLASSES)\n",
        "\n",
        "inputs = []\n",
        "outputs = []\n",
        "\n",
        "for class_index in range(NUM_CLASSES):\n",
        "  objectClass = CLASSES[class_index]\n",
        "  df = pd.read_csv(PATH_DIR + objectClass + \".csv\")\n",
        "  columns = list(df)\n",
        "  df = df.reset_index(drop=True)\n",
        "\n",
        "  num_recordings = int(df.shape[0] / SAMPLES_WINDOW_LEN)\n",
        "  print(f\"\\n{objectClass} será a classe {class_index} no classificador\")\n",
        "  print(f\"{num_recordings} exemplos com as entradas: {list(df)}\")\n",
        "\n",
        "  plt.rcParams[\"figure.figsize\"] = (10,1)\n",
        "  pixels = np.array([df['Red'],df['Green'],df['Blue']],float)\n",
        "  pixels = np.transpose(pixels)\n",
        "  for i in range(num_recordings):\n",
        "    plt.axvline(x=i, linewidth=8, color=tuple(pixels[i]/np.max(pixels[i], axis=0)))\n",
        "  plt.show()\n",
        "\n",
        "  # Tensores\n",
        "  output = ONE_HOT_ENCODED_CLASSES[class_index]\n",
        "  for i in range(num_recordings):\n",
        "    tensor = []\n",
        "    row = []\n",
        "    for c in columns:\n",
        "      row.append(df[c][i])\n",
        "    tensor += row\n",
        "    inputs.append(tensor)\n",
        "    outputs.append(output)\n",
        "\n",
        "inputs = np.array(inputs)\n",
        "outputs = np.array(outputs)"
      ],
      "metadata": {
        "colab": {
          "base_uri": "https://localhost:8080/",
          "height": 569
        },
        "id": "KEHcGtTKGRo0",
        "outputId": "985b74d3-60a6-405f-f78f-5a2077857d7e"
      },
      "execution_count": null,
      "outputs": [
        {
          "output_type": "stream",
          "name": "stdout",
          "text": [
            "['apple', 'banana', 'orange'] 3\n",
            "\n",
            "apple será a classe 0 no classificador\n",
            "71 exemplos com as entradas: ['Red', 'Green', 'Blue']\n"
          ]
        },
        {
          "output_type": "display_data",
          "data": {
            "text/plain": [
              "<Figure size 1000x100 with 1 Axes>"
            ],
            "image/png": "[encoded data removed]"
          },
          "metadata": {}
        },
        {
          "output_type": "stream",
          "name": "stdout",
          "text": [
            "\n",
            "banana será a classe 1 no classificador\n",
            "94 exemplos com as entradas: ['Red', 'Green', 'Blue']\n"
          ]
        },
        {
          "output_type": "display_data",
          "data": {
            "text/plain": [
              "<Figure size 1000x100 with 1 Axes>"
            ],
            "image/png": "[encoded data removed]"
          },
          "metadata": {}
        },
        {
          "output_type": "stream",
          "name": "stdout",
          "text": [
            "\n",
            "orange será a classe 2 no classificador\n",
            "91 exemplos com as entradas: ['Red', 'Green', 'Blue']\n"
          ]
        },
        {
          "output_type": "display_data",
          "data": {
            "text/plain": [
              "<Figure size 1000x100 with 1 Axes>"
            ],
            "image/png": "[encoded data removed]"
          },
          "metadata": {}
        }
      ]
    },
    {
      "cell_type": "code",
      "execution_count": null,
      "metadata": {
        "colab": {
          "base_uri": "https://localhost:8080/"
        },
        "id": "3_hZzZ295uTq",
        "outputId": "b1dc0fb7-4c21-47d0-eb3c-4c1083fc4c70"
      },
      "outputs": [
        {
          "output_type": "stream",
          "name": "stdout",
          "text": [
            "Número total de variações após aumento de dados: 2130\n"
          ]
        }
      ],
      "source": [
        "min_variations = 100\n",
        "PATH_DIR = '/content/drive/MyDrive/Projeto TinyML/Dados/'\n",
        "\n",
        "original_data = pd.read_csv(PATH_DIR+'/apple.csv')\n",
        "\n",
        "num_variations_needed = min_variations - len(original_data)\n",
        "new_variations = []\n",
        "for i in range(num_variations_needed):\n",
        "  noise = np.random.normal(0, 0.1, size=(len(original_data), 3))\n",
        "  noise[:, 0] += np.random.normal(0.15, 0.0, size=len(original_data))\n",
        "  variation = original_data[['Red', 'Green', 'Blue']] + noise\n",
        "  variation = np.clip(variation, 0, 255)\n",
        "\n",
        "  new_variations.append(variation)\n",
        "\n",
        "\n",
        "nova_maca = pd.concat([original_data] + new_variations, ignore_index=True)\n",
        "nova_maca.to_csv(PATH_DIR+'/dados_aumentados/maca.csv', index=False)\n",
        "\n",
        "print(\"Número total de variações após aumento de dados:\", len(nova_maca))\n",
        "num_recordings_maca = int(nova_maca.shape[0])"
      ]
    },
    {
      "cell_type": "code",
      "execution_count": null,
      "metadata": {
        "colab": {
          "base_uri": "https://localhost:8080/"
        },
        "id": "Evcu-xot9x_7",
        "outputId": "1b93a25a-4579-46f2-dbd0-c19b486e64e2"
      },
      "outputs": [
        {
          "output_type": "stream",
          "name": "stdout",
          "text": [
            "Número total de variações após aumento de dados: 2538\n"
          ]
        }
      ],
      "source": [
        "min_variations = 120\n",
        "original_data = pd.read_csv(PATH_DIR+'/banana.csv')\n",
        "\n",
        "num_variations_needed = min_variations - len(original_data)\n",
        "new_variations = []\n",
        "for i in range(num_variations_needed):\n",
        "    noise = np.random.normal(0, 0.1, size=(len(original_data), 3))\n",
        "    noise[:, 0] += np.random.normal(0.15, 0.0, size=len(original_data))\n",
        "    noise[:, 1] += np.random.normal(0.15, 0.0, size=len(original_data))\n",
        "    variation = (original_data[['Red', 'Green', 'Blue']] + noise)\n",
        "    variation = np.clip(variation, 0, 255)\n",
        "\n",
        "    new_variations.append(variation)\n",
        "\n",
        "banana_new_data = pd.concat([original_data] + new_variations, ignore_index=True)\n",
        "banana_new_data.to_csv(PATH_DIR+'/dados_aumentados/banana.csv', index=False)\n",
        "\n",
        "print(\"Número total de variações após aumento de dados:\", len(banana_new_data))\n",
        "\n",
        "num_recordings_banana = int(banana_new_data.shape[0])"
      ]
    },
    {
      "cell_type": "code",
      "execution_count": null,
      "metadata": {
        "colab": {
          "base_uri": "https://localhost:8080/"
        },
        "id": "Kd7t7zLb_djl",
        "outputId": "0afb9ce2-f55e-4b4f-ec9c-d6912e8e5fd4"
      },
      "outputs": [
        {
          "output_type": "stream",
          "name": "stdout",
          "text": [
            "Número total de variações após aumento de dados: 2639\n"
          ]
        }
      ],
      "source": [
        "def change_to_green(r, g, b):\n",
        "    r *= 0.3\n",
        "    g *= 1.5\n",
        "    return r, g, b\n",
        "\n",
        "min_variations = 120\n",
        "original_data = pd.read_csv(PATH_DIR+'orange.csv')\n",
        "\n",
        "num_variations_needed = min_variations - len(original_data)\n",
        "new_variations = []\n",
        "for i in range(num_variations_needed):\n",
        "    noise = np.random.normal(0, 0.1, size=(len(original_data), 3))\n",
        "    variation = original_data[['Red', 'Green', 'Blue']] + noise\n",
        "    variation['Red'], variation['Green'], variation['Blue'] = zip(*variation.apply(lambda row: change_to_green(row['Red'], row['Green'], row['Blue']), axis=1))\n",
        "    variation = np.clip(variation, 0, 255)\n",
        "\n",
        "    new_variations.append(variation)\n",
        "\n",
        "limao_new = pd.concat(new_variations, ignore_index=True)\n",
        "limao_new.to_csv(PATH_DIR+'/dados_aumentados/limao.csv', index=False)\n",
        "\n",
        "print(\"Número total de variações após aumento de dados:\", len(limao_new))\n",
        "\n",
        "num_recordings_limao = int(limao_new.shape[0])"
      ]
    },
    {
      "cell_type": "code",
      "source": [
        "plt.rcParams[\"figure.figsize\"] = (10,1)\n",
        "pixels = np.array([nova_maca['Red'],nova_maca['Green'],nova_maca['Blue']],float)\n",
        "pixels = np.transpose(pixels)\n",
        "for i in range(num_recordings_maca):\n",
        "  plt.axvline(x=i, linewidth=8, color=tuple(pixels[i]/np.max(pixels[i], axis=0)))\n",
        "plt.show()\n",
        "\n",
        "plt.rcParams[\"figure.figsize\"] = (10,1)\n",
        "pixels = np.array([banana_new_data['Red'],banana_new_data['Green'],banana_new_data['Blue']],float)\n",
        "pixels = np.transpose(pixels)\n",
        "for i in range(num_recordings_banana):\n",
        "  plt.axvline(x=i, color=tuple(pixels[i]/np.max(pixels[i], axis=0)))\n",
        "plt.show()\n",
        "\n",
        "plt.rcParams[\"figure.figsize\"] = (10,1)\n",
        "pixels = np.array([limao_new['Red'], limao_new['Green'], limao_new['Blue']], float)\n",
        "pixels = np.transpose(pixels)\n",
        "for i in range(num_recordings_limao):\n",
        "    plt.axvline(x=i, linewidth=8, color=tuple(pixels[i] / np.max(pixels[i], axis=0)))\n",
        "plt.show()"
      ],
      "metadata": {
        "colab": {
          "base_uri": "https://localhost:8080/",
          "height": 395
        },
        "id": "3cHc5T6rGsZm",
        "outputId": "ae8fc9de-e07a-411a-ab88-dc0c89b8ebaa"
      },
      "execution_count": null,
      "outputs": [
        {
          "output_type": "display_data",
          "data": {
            "text/plain": [
              "<Figure size 1000x100 with 1 Axes>"
            ],
            "image/png": "[encoded data removed]"
          },
          "metadata": {}
        },
        {
          "output_type": "display_data",
          "data": {
            "text/plain": [
              "<Figure size 1000x100 with 1 Axes>"
            ],
            "image/png": "[encoded data removed]"
          },
          "metadata": {}
        },
        {
          "output_type": "display_data",
          "data": {
            "text/plain": [
              "<Figure size 1000x100 with 1 Axes>"
            ],
            "image/png": "[encoded data removed]"
          },
          "metadata": {}
        }
      ]
    },
    {
      "cell_type": "markdown",
      "source": [
        "#### Carregando novas cores"
      ],
      "metadata": {
        "id": "QCMqUhFlGJbW"
      }
    },
    {
      "cell_type": "code",
      "execution_count": null,
      "metadata": {
        "colab": {
          "base_uri": "https://localhost:8080/"
        },
        "id": "KN1cbu6ef9v6",
        "outputId": "2caaef63-d4c6-436c-bc9b-7710a685620a"
      },
      "outputs": [
        {
          "output_type": "stream",
          "name": "stdout",
          "text": [
            "['banana', 'limao', 'maca'] 3\n"
          ]
        }
      ],
      "source": [
        "SEED = 42\n",
        "np.random.seed(SEED)\n",
        "tf.random.set_seed(SEED)\n",
        "\n",
        "CLASSES = []\n",
        "PATH_DIR = '/content/drive/MyDrive/Projeto TinyML/Dados/dados_aumentados/'\n",
        "\n",
        "for file in os.listdir(PATH_DIR):\n",
        "    if file.endswith(\".csv\"):\n",
        "        CLASSES.append(os.path.splitext(file)[0])\n",
        "\n",
        "CLASSES.sort()\n",
        "SAMPLES_WINDOW_LEN = 1\n",
        "NUM_CLASSES = len(CLASSES)\n",
        "print(CLASSES, NUM_CLASSES)\n"
      ]
    },
    {
      "cell_type": "code",
      "execution_count": null,
      "metadata": {
        "id": "-FZA3bfowjOH"
      },
      "outputs": [],
      "source": [
        "ONE_HOT_ENCODED_CLASSES = np.eye(NUM_CLASSES)\n",
        "\n",
        "inputs = []\n",
        "outputs = []"
      ]
    },
    {
      "cell_type": "code",
      "execution_count": null,
      "metadata": {
        "colab": {
          "base_uri": "https://localhost:8080/",
          "height": 551
        },
        "id": "Kmiu-7QkguCJ",
        "outputId": "d5f85de3-c4d7-4e59-d5e2-f8916f744683"
      },
      "outputs": [
        {
          "output_type": "stream",
          "name": "stdout",
          "text": [
            "\n",
            "banana será a classe 0 no classificador\n",
            "2538 exemplos com as entradas: ['Red', 'Green', 'Blue']\n"
          ]
        },
        {
          "output_type": "display_data",
          "data": {
            "text/plain": [
              "<Figure size 1000x100 with 1 Axes>"
            ],
            "image/png": "[encoded data removed]"
          },
          "metadata": {}
        },
        {
          "output_type": "stream",
          "name": "stdout",
          "text": [
            "\n",
            "limao será a classe 1 no classificador\n",
            "2639 exemplos com as entradas: ['Red', 'Green', 'Blue']\n"
          ]
        },
        {
          "output_type": "display_data",
          "data": {
            "text/plain": [
              "<Figure size 1000x100 with 1 Axes>"
            ],
            "image/png": "[encoded data removed]"
          },
          "metadata": {}
        },
        {
          "output_type": "stream",
          "name": "stdout",
          "text": [
            "\n",
            "maca será a classe 2 no classificador\n",
            "2130 exemplos com as entradas: ['Red', 'Green', 'Blue']\n"
          ]
        },
        {
          "output_type": "display_data",
          "data": {
            "text/plain": [
              "<Figure size 1000x100 with 1 Axes>"
            ],
            "image/png": "[encoded data removed]"
          },
          "metadata": {}
        }
      ],
      "source": [
        "for class_index in range(NUM_CLASSES):\n",
        "  objectClass = CLASSES[class_index]\n",
        "  df = pd.read_csv(PATH_DIR + objectClass + \".csv\")\n",
        "  columns = list(df)\n",
        "  df = df.reset_index(drop=True)\n",
        "\n",
        "  num_recordings = int(df.shape[0] / SAMPLES_WINDOW_LEN)\n",
        "  print(f\"\\n{objectClass} será a classe {class_index} no classificador\")\n",
        "  print(f\"{num_recordings} exemplos com as entradas: {list(df)}\")\n",
        "\n",
        "  plt.rcParams[\"figure.figsize\"] = (10,1)\n",
        "  pixels = np.array([df['Red'],df['Green'],df['Blue']],float)\n",
        "  pixels = np.transpose(pixels)\n",
        "  for i in range(num_recordings):\n",
        "    plt.axvline(x=i, linewidth=8, color=tuple(pixels[i]/np.max(pixels[i], axis=0)))\n",
        "  plt.show()\n",
        "\n",
        "  # Tensores\n",
        "  output = ONE_HOT_ENCODED_CLASSES[class_index]\n",
        "  for i in range(num_recordings):\n",
        "    tensor = []\n",
        "    row = []\n",
        "    for c in columns:\n",
        "      row.append(df[c][i])\n",
        "    tensor += row\n",
        "    inputs.append(tensor)\n",
        "    outputs.append(output)\n",
        "\n",
        "inputs = np.array(inputs)\n",
        "outputs = np.array(outputs)"
      ]
    },
    {
      "cell_type": "code",
      "execution_count": null,
      "metadata": {
        "id": "w2XFxQrhg9xR"
      },
      "outputs": [],
      "source": [
        "num_inputs = len(inputs)\n",
        "randomize = np.arange(num_inputs)\n",
        "np.random.shuffle(randomize)\n",
        "\n",
        "# Misturar dados\n",
        "inputs = inputs[randomize]\n",
        "outputs = outputs[randomize]\n",
        "\n",
        "TRAIN_SPLIT = int(0.6 * num_inputs)\n",
        "TEST_SPLIT = int(0.2 * num_inputs + TRAIN_SPLIT)\n",
        "\n",
        "inputs_train, inputs_test, inputs_validate = np.split(inputs, [TRAIN_SPLIT, TEST_SPLIT])\n",
        "outputs_train, outputs_test, outputs_validate = np.split(outputs, [TRAIN_SPLIT, TEST_SPLIT])"
      ]
    },
    {
      "cell_type": "markdown",
      "metadata": {
        "id": "yR5FVeOfhUoh"
      },
      "source": [
        "# Modelo"
      ]
    },
    {
      "cell_type": "markdown",
      "metadata": {
        "id": "2ggFbgLsz8jH"
      },
      "source": [
        "## Treino"
      ]
    },
    {
      "cell_type": "code",
      "execution_count": null,
      "metadata": {
        "id": "w5S9gs8uhRDh"
      },
      "outputs": [],
      "source": [
        "model = tf.keras.Sequential([\n",
        "    tf.keras.layers.Dense(16, activation='relu'),\n",
        "    tf.keras.layers.Dropout(0.2),\n",
        "    tf.keras.layers.Dense(8, activation='relu'),\n",
        "    tf.keras.layers.Dense(NUM_CLASSES, activation='softmax')\n",
        "])\n",
        "\n",
        "model.compile(optimizer='adam', loss='categorical_crossentropy', metrics=['accuracy'])\n",
        "\n",
        "history = model.fit(inputs_train, outputs_train, epochs=200, batch_size=4,\n",
        "                   validation_data=(inputs_validate, outputs_validate))"
      ]
    },
    {
      "cell_type": "code",
      "execution_count": null,
      "metadata": {
        "colab": {
          "base_uri": "https://localhost:8080/"
        },
        "id": "pc4zY6g11kYU",
        "outputId": "5bf57b0c-7e3d-44c7-8eeb-13df8ac8bc49"
      },
      "outputs": [
        {
          "output_type": "stream",
          "name": "stdout",
          "text": [
            "46/46 [==============================] - 0s 1ms/step - loss: 0.0909 - accuracy: 0.9644\n",
            "Acurácia no conjunto de teste: 0.9644079208374023\n"
          ]
        }
      ],
      "source": [
        "test_loss, test_accuracy = model.evaluate(inputs_test, outputs_test)\n",
        "print(f\"Acurácia no conjunto de teste: {test_accuracy}\")"
      ]
    },
    {
      "cell_type": "markdown",
      "metadata": {
        "id": "ZO5SCQgFz_Eq"
      },
      "source": [
        "## Teste"
      ]
    },
    {
      "cell_type": "code",
      "execution_count": null,
      "metadata": {
        "colab": {
          "base_uri": "https://localhost:8080/"
        },
        "id": "rnImrvd4yH5y",
        "outputId": "7cca9545-947e-4fa9-ed8a-55b18bfa312c"
      },
      "outputs": [
        {
          "output_type": "stream",
          "name": "stdout",
          "text": [
            "46/46 [==============================] - 0s 1ms/step\n"
          ]
        }
      ],
      "source": [
        "# use the model to predict the test inputs\n",
        "predictions = model.predict(inputs_test)\n",
        "\n",
        "reais = []\n",
        "preds = []\n",
        "\n",
        "for i in range(predictions.shape[0]):\n",
        "  item = predictions[i,:]\n",
        "  pred = np.argmax(item)\n",
        "  preds.append(pred)\n",
        "\n",
        "  item2 = outputs_test[i,:]\n",
        "  real = np.argmax(item2)\n",
        "  reais.append(real)"
      ]
    },
    {
      "cell_type": "code",
      "execution_count": null,
      "metadata": {
        "colab": {
          "base_uri": "https://localhost:8080/",
          "height": 661
        },
        "id": "rX7cnxjTkzFx",
        "outputId": "8bc5109a-7338-43bf-fc0a-93511435d580"
      },
      "outputs": [
        {
          "output_type": "display_data",
          "data": {
            "text/plain": [
              "<Figure size 800x800 with 2 Axes>"
            ],
            "image/png": "[encoded data removed]"
          },
          "metadata": {}
        }
      ],
      "source": [
        "confusion_matrix = metrics.confusion_matrix(reais, preds)\n",
        "cm_display = metrics.ConfusionMatrixDisplay(confusion_matrix = confusion_matrix, display_labels = [\"Banana\", \"Limão\", \"Maçã\"])\n",
        "\n",
        "fig, ax = plt.subplots(figsize=(8, 8))\n",
        "cmap = plt.get_cmap('Blues')\n",
        "cm_display.plot(ax=ax, cmap=cmap)\n",
        "\n",
        "ax.set_xlabel('Valores Preditivos')\n",
        "ax.set_ylabel('Valores Reais')\n",
        "\n",
        "# plt.title(\"Matriz de confusão\", fontsize=12)\n",
        "plt.show()"
      ]
    },
    {
      "cell_type": "markdown",
      "metadata": {
        "id": "qyW96LlAhgyN"
      },
      "source": [
        "# Converter para TensorflowLite"
      ]
    },
    {
      "cell_type": "code",
      "execution_count": null,
      "metadata": {
        "colab": {
          "base_uri": "https://localhost:8080/"
        },
        "id": "ZeXjxL-Jyy3w",
        "outputId": "340a5fb4-667c-4dad-a72c-616a68087dfa"
      },
      "outputs": [
        {
          "output_type": "stream",
          "name": "stdout",
          "text": [
            "Model is 3084 bytes\n"
          ]
        }
      ],
      "source": [
        "# Convert the model to the TensorFlow Lite format without quantization\n",
        "converter = tf.lite.TFLiteConverter.from_keras_model(model)\n",
        "tflite_model = converter.convert()\n",
        "\n",
        "# Save the model to disk\n",
        "with open(PATH_DIR+\"model.tflite\", \"wb\") as f:\n",
        "    f.write(tflite_model)\n",
        "\n",
        "import os\n",
        "basic_model_size = os.path.getsize(PATH_DIR+\"model.tflite\")\n",
        "print(\"Model is %d bytes\" % basic_model_size)\n"
      ]
    },
    {
      "cell_type": "code",
      "execution_count": null,
      "metadata": {
        "colab": {
          "base_uri": "https://localhost:8080/"
        },
        "id": "HQ_sc5cphlkb",
        "outputId": "b10e986b-ca3a-4546-8fa9-fe6eeec8c4eb"
      },
      "outputs": [
        {
          "output_type": "stream",
          "name": "stdout",
          "text": [
            "Header file, model.h, is 19,052 bytes.\n"
          ]
        }
      ],
      "source": [
        "!echo \"const unsigned char model[] = {\" >\n",
        "  '/content/drive/MyDrive/Projeto TinyML/Dados/dados_aumentados/model.h'\n",
        "\n",
        "!cat '/content/drive/MyDrive/Projeto TinyML/Dados/dados_aumentados/model.tflite' | xxd -i >>\n",
        "  '/content/drive/MyDrive/Projeto TinyML/Dados/dados_aumentados/model.h'\n",
        "\n",
        "!echo \"};\"                              >>\n",
        "  '/content/drive/MyDrive/Projeto TinyML/Dados/dados_aumentados/model.h'\n",
        "\n",
        "print(f\"Header file, model.h, is {model_h_size:,} bytes.\")"
      ]
    },
    {
      "cell_type": "markdown",
      "metadata": {
        "id": "pLOiNfUCasGd"
      },
      "source": [
        "# Testar valores dos sensores"
      ]
    },
    {
      "cell_type": "code",
      "execution_count": null,
      "metadata": {
        "colab": {
          "base_uri": "https://localhost:8080/",
          "height": 149
        },
        "id": "MipeZCmQcUvp",
        "outputId": "92c027bc-fdc8-440d-ffee-4b4bb0b82aec"
      },
      "outputs": [
        {
          "output_type": "display_data",
          "data": {
            "text/plain": [
              "<Figure size 1000x100 with 1 Axes>"
            ],
            "image/png": "[encoded data removed]"
          },
          "metadata": {}
        },
        {
          "output_type": "stream",
          "name": "stdout",
          "text": [
            "1/1 [==============================] - 0s 47ms/step\n",
            "Classe prevista: limao\n"
          ]
        }
      ],
      "source": [
        "import matplotlib.pyplot as plt\n",
        "color = [0,0.8,0]\n",
        "def plot_color(color):\n",
        "  plt.figure()\n",
        "  plt.imshow([[color]], aspect='auto')\n",
        "  plt.axis('off')\n",
        "  plt.show()\n",
        "\n",
        "\n",
        "plot_color(color)\n",
        "\n",
        "# Fazendo previsões com o modelo\n",
        "predictions_real = model.predict([color])\n",
        "\n",
        "# Determinando a classe prevista\n",
        "class_index = np.argmax(predictions_real[0, :])\n",
        "predicted_class = CLASSES[class_index]\n",
        "\n",
        "print(\"Classe prevista:\", predicted_class)"
      ]
    }
  ],
  "metadata": {
    "colab": {
      "provenance": []
    },
    "kernelspec": {
      "display_name": "Python 3",
      "name": "python3"
    },
    "language_info": {
      "name": "python"
    }
  },
  "nbformat": 4,
  "nbformat_minor": 0
}